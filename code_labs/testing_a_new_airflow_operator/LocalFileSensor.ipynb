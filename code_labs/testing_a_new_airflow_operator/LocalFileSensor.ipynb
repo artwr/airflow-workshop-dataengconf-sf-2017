{
 "cells": [
  {
   "cell_type": "code",
   "execution_count": 1,
   "metadata": {},
   "outputs": [
    {
     "name": "stdout",
     "output_type": "stream",
     "text": [
      "[2017-04-26 14:25:11,301] {__init__.py:57} INFO - Using executor SequentialExecutor\n"
     ]
    }
   ],
   "source": [
    "import logging\n",
    "import os\n",
    "import glob\n",
    "from airflow.operators.sensors import BaseSensorOperator\n",
    "from airflow.utils.decorators import apply_defaults\n"
   ]
  },
  {
   "cell_type": "code",
   "execution_count": 2,
   "metadata": {
    "collapsed": true
   },
   "outputs": [],
   "source": [
    "\n",
    "class LocalFileSensor(BaseSensorOperator):\n",
    "    \"\"\"\n",
    "    Waits for a file to be present in the local filesystem.\n",
    "    \n",
    "    \n",
    "    \"\"\"\n",
    "    @apply_defaults\n",
    "    def __init__(\n",
    "            self,\n",
    "            filepath,\n",
    "            filesystem_conn_id='localfs_default',\n",
    "            *args, **kwargs):\n",
    "        super(LocalFileSensor, self).__init__(*args, **kwargs)\n",
    "        # Parse\n",
    "        self.filepath = filepath\n",
    "        self.filesystem_conn_id = filesystem_conn_id\n",
    "        \n",
    "        \n",
    "    def poke(self, context):\n",
    "        return os.path.isfile(self.filepath)"
   ]
  },
  {
   "cell_type": "code",
   "execution_count": 4,
   "metadata": {
    "collapsed": true
   },
   "outputs": [],
   "source": [
    "fs = LocalFileSensor(task_id = 'fs', filepath='Untitled.ipynb', filesystem_conn_id = 'hive_default')"
   ]
  },
  {
   "cell_type": "code",
   "execution_count": 6,
   "metadata": {},
   "outputs": [
    {
     "data": {
      "text/plain": [
       "True"
      ]
     },
     "execution_count": 6,
     "metadata": {},
     "output_type": "execute_result"
    }
   ],
   "source": [
    "fs.poke(context=None)"
   ]
  },
  {
   "cell_type": "code",
   "execution_count": null,
   "metadata": {
    "collapsed": true
   },
   "outputs": [],
   "source": [
    "class WildcardLocalFileSensor(BaseSensorOperator):\n",
    "    \"\"\"\n",
    "    Waits for a file to be present in the local filesystem.\n",
    "\n",
    "    :param filepath: The path to the file\n",
    "    :type filepath: str\n",
    "    :param wildcard_match: whether the filename should be interpreted as a\n",
    "        Unix wildcard pattern\n",
    "    :type wildcard_match: bool\n",
    "    :param filesystem_conn_id: a reference to the localfs connection\n",
    "    :type filesystem_conn_id: str\n",
    "    \"\"\"\n",
    "    template_fields = ('filepath',)\n",
    "\n",
    "    @apply_defaults\n",
    "    def __init__(\n",
    "            self, filepath,\n",
    "            wildcard_match=False,\n",
    "            filesystem_conn_id='localfs_default',\n",
    "            *args, **kwargs):\n",
    "        super(LocalFileSensor, self).__init__(*args, **kwargs)\n",
    "        # Parse\n",
    "        self.filepath = filepath\n",
    "        self.wildcard_match = wildcard_match\n",
    "        self.filesystem_conn_id = filesystem_conn_id\n",
    "\n",
    "    def poke(self, context):\n",
    "        path = self.filepath\n",
    "        if not self.wildcard_match:\n",
    "            path = os.path.realpath(self.filepath)\n",
    "        logging.info('Poking for file matching : {}'.format(path))\n",
    "        if self.wildcard_match:\n",
    "            results = glob.glob(path)\n",
    "            if len(results) > 1:\n",
    "                logging.warning('Several files match the sensor: %s',\n",
    "                                '\\n'.join(results))\n",
    "            return bool(results)\n",
    "        else:\n",
    "            return os.path.isfile(path)"
   ]
  }
 ],
 "metadata": {
  "kernelspec": {
   "display_name": "python2_airflow_kernel",
   "language": "python",
   "name": "python2_airflow_kernel"
  },
  "language_info": {
   "codemirror_mode": {
    "name": "ipython",
    "version": 2
   },
   "file_extension": ".py",
   "mimetype": "text/x-python",
   "name": "python",
   "nbconvert_exporter": "python",
   "pygments_lexer": "ipython2",
   "version": "2.7.13"
  }
 },
 "nbformat": 4,
 "nbformat_minor": 2
}
